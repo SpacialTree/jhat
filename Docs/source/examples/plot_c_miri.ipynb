{
  "cells": [
    {
      "cell_type": "code",
      "execution_count": null,
      "metadata": {
        "collapsed": false
      },
      "outputs": [],
      "source": [
        "%matplotlib inline"
      ]
    },
    {
      "cell_type": "markdown",
      "metadata": {},
      "source": [
        "\n# JWST MIRI\n\nAligning JWST MIRI images with JHAT.\n"
      ]
    },
    {
      "cell_type": "markdown",
      "metadata": {},
      "source": [
        "An example MIRI Dataset is downloaded, and then a series of\nalignment methods are used.\n\n"
      ]
    },
    {
      "cell_type": "code",
      "execution_count": null,
      "metadata": {
        "collapsed": false
      },
      "outputs": [],
      "source": [
        "import sys,os,glob\nfrom astropy.io import fits\nfrom astropy.table import Table\nimport numpy as np\nimport matplotlib.pyplot as plt\nfrom astroquery.mast import Observations\nfrom astropy.visualization import (simple_norm,LinearStretch)\n\nimport jhat\nfrom jhat import hst_photclass,st_wcs_align"
      ]
    },
    {
      "cell_type": "markdown",
      "metadata": {},
      "source": [
        "**Download some Data**\n\nFor this example we download 2 HST FLT images from MAST. They're\nthe same filter and same field, just separated in time. Note that \nthe code will also work for drizzled images.\n\n"
      ]
    },
    {
      "cell_type": "code",
      "execution_count": null,
      "metadata": {
        "collapsed": false
      },
      "outputs": [],
      "source": [
        "obs_table = Observations.query_criteria(obs_id='hst_16264_13_wfc3_ir_f160w_iebc13')\nobs_table1 = obs_table[obs_table['filters']=='F160W']\n\nobs_table = Observations.query_criteria(obs_id='hst_16264_14_wfc3_ir_f160w_iebc14')\nobs_table2 = obs_table[obs_table['filters']=='F160W']\n\ndata_products_by_obs = Observations.get_product_list(obs_table1)\ndata_products_by_obs = data_products_by_obs[data_products_by_obs['calib_level']==2]\ndata_products_by_obs = data_products_by_obs[data_products_by_obs['productSubGroupDescription']=='FLT'][0]\nObservations.download_products(data_products_by_obs,extension='fits')\n\ndata_products_by_obs = Observations.get_product_list(obs_table2)\ndata_products_by_obs = data_products_by_obs[data_products_by_obs['calib_level']==2]\ndata_products_by_obs = data_products_by_obs[data_products_by_obs['productSubGroupDescription']=='FLT'][0]\nObservations.download_products(data_products_by_obs,extension='fits')"
      ]
    },
    {
      "cell_type": "markdown",
      "metadata": {},
      "source": [
        "**Examine the Reference Image**\n\n\n"
      ]
    },
    {
      "cell_type": "code",
      "execution_count": null,
      "metadata": {
        "collapsed": false
      },
      "outputs": [],
      "source": [
        "files = glob.glob('mastDownload/HST/*/*flt.fits')\nref_image = files[0]\nalign_image = files[1]\n#ref_data = fits.open(ref_image)['SCI',1].data\n#norm1 = simple_norm(ref_data,stretch='log',min_cut=-1,max_cut=15)\n\n# #plt.imshow(ref_data, origin='lower',\n#                       #interval=MinMaxInterval(),\n#                       norm=norm1,cmap='gray')\nx = np.linspace(0, 2 * np.pi, 100)\ny = np.sin(x)\n# fig = plt.figure()\nplt.plot(x, y)\nplt.xlabel(r'$x$')\nplt.ylabel(r'$\\sin(x)$')\nplt.show()"
      ]
    }
  ],
  "metadata": {
    "kernelspec": {
      "display_name": "Python 3",
      "language": "python",
      "name": "python3"
    },
    "language_info": {
      "codemirror_mode": {
        "name": "ipython",
        "version": 3
      },
      "file_extension": ".py",
      "mimetype": "text/x-python",
      "name": "python",
      "nbconvert_exporter": "python",
      "pygments_lexer": "ipython3",
      "version": "3.8.15"
    }
  },
  "nbformat": 4,
  "nbformat_minor": 0
}