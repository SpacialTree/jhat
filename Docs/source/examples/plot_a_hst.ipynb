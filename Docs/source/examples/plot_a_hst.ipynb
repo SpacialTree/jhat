{
  "cells": [
    {
      "cell_type": "code",
      "execution_count": null,
      "metadata": {
        "collapsed": false
      },
      "outputs": [],
      "source": [
        "%matplotlib inline"
      ]
    },
    {
      "cell_type": "markdown",
      "metadata": {},
      "source": [
        "\n# Hubble\n\nAligning HST images with JHAT.\n"
      ]
    },
    {
      "cell_type": "markdown",
      "metadata": {},
      "source": [
        "An example HST Dataset is downloaded, and then a series of\nalignment methods are used.\n\n"
      ]
    },
    {
      "cell_type": "code",
      "execution_count": null,
      "metadata": {
        "collapsed": false
      },
      "outputs": [],
      "source": [
        "import sys,os,glob\nfrom astropy.io import fits\nfrom astropy.table import Table\nimport numpy as np\nimport matplotlib.pyplot as plt\nfrom astroquery.mast import Observations\nfrom astropy.visualization import (simple_norm,LinearStretch)\n\nimport jhat\nfrom jhat import hst_photclass,st_wcs_align"
      ]
    },
    {
      "cell_type": "markdown",
      "metadata": {},
      "source": [
        "**Download some Data**\n\nFor this example we download 2 HST FLT images from MAST. They're\nthe same filter and same field, just separated in time. Note that \nthe code will also work for drizzled images.\n\n"
      ]
    },
    {
      "cell_type": "code",
      "execution_count": null,
      "metadata": {
        "collapsed": false
      },
      "outputs": [],
      "source": [
        "obs_table = Observations.query_criteria(obs_id='hst_16264_13_wfc3_ir_f160w_iebc13')\nobs_table1 = obs_table[obs_table['filters']=='F160W']\n\nobs_table = Observations.query_criteria(obs_id='hst_16264_14_wfc3_ir_f160w_iebc14')\nobs_table2 = obs_table[obs_table['filters']=='F160W']\n\ndata_products_by_obs = Observations.get_product_list(obs_table1)\ndata_products_by_obs = data_products_by_obs[data_products_by_obs['calib_level']==2]\ndata_products_by_obs = data_products_by_obs[data_products_by_obs['productSubGroupDescription']=='FLT'][0]\nObservations.download_products(data_products_by_obs,extension='fits')\n\ndata_products_by_obs = Observations.get_product_list(obs_table2)\ndata_products_by_obs = data_products_by_obs[data_products_by_obs['calib_level']==2]\ndata_products_by_obs = data_products_by_obs[data_products_by_obs['productSubGroupDescription']=='FLT'][0]\nObservations.download_products(data_products_by_obs,extension='fits')"
      ]
    },
    {
      "cell_type": "markdown",
      "metadata": {},
      "source": [
        "**Examine the Reference Image**\n\n\n"
      ]
    },
    {
      "cell_type": "code",
      "execution_count": null,
      "metadata": {
        "collapsed": false
      },
      "outputs": [],
      "source": [
        "files = glob.glob('mastDownload/HST/*/*flt.fits')\nref_image = files[0]\nalign_image = files[1]\nref_data = fits.open(ref_image)['SCI',1].data\nnorm1 = simple_norm(ref_data,stretch='log',min_cut=-1,max_cut=15)\n\nplt.imshow(ref_data, origin='lower',\n                      #interval=MinMaxInterval(),\n                      norm=norm1,cmap='gray')\nplt.show()"
      ]
    },
    {
      "cell_type": "markdown",
      "metadata": {},
      "source": [
        "**Create a Photometric Catalog for Relative Alignment**\n\nWe choose one of the images to be the reference image, and then \ncreate a catalog that we will use to align the other image.\n\n"
      ]
    },
    {
      "cell_type": "code",
      "execution_count": null,
      "metadata": {
        "collapsed": false
      },
      "outputs": [],
      "source": [
        "hst_phot = hst_photclass(psf_fwhm=1.8,aperture_radius=5)\nhst_phot.run_phot(imagename=ref_image,photfilename='auto',overwrite=True)\nref_catname = ref_image.replace('.fits','.phot.txt') # the default\nrefcat = Table.read(ref_catname,format='ascii')\nprint(refcat)"
      ]
    },
    {
      "cell_type": "markdown",
      "metadata": {},
      "source": [
        "**Align the second image**\n\n\n"
      ]
    },
    {
      "cell_type": "code",
      "execution_count": null,
      "metadata": {
        "collapsed": false
      },
      "outputs": [],
      "source": [
        "wcs_align = st_wcs_align()\nwcs_align.outdir = 'mastDownload'\n\n\nwcs_align.run_all(align_image,\n          refcat_racol='ra',\n          refcat_deccol='dec',\n          refcat_magcol='mag',\n          refcat_magerrcol='dmag',\n          overwrite=True,\n          #Nbright=1000,\n          #Nbright4match=1000,\n          d2d_max=.12,\n          showplots=2,\n          #xshift=xshift,\n          #yshift=yshift,\n          #refcat_maincolor='gaia_g_rp',\n                  refcatname=ref_catname,\n                  histocut_order='dxdy',\n                      sharpness_lim=(0.3,0.9),\n                      roundness1_lim=(-0.7, 0.7),\n                      #rough_cut_px_min=0.2,\n                      #rough_cut_px_max=1.0,\n                      SNR_min= 3,\n                      dmag_max=1.0,\n                      objmag_lim =(14,24))"
      ]
    }
  ],
  "metadata": {
    "kernelspec": {
      "display_name": "Python 3",
      "language": "python",
      "name": "python3"
    },
    "language_info": {
      "codemirror_mode": {
        "name": "ipython",
        "version": 3
      },
      "file_extension": ".py",
      "mimetype": "text/x-python",
      "name": "python",
      "nbconvert_exporter": "python",
      "pygments_lexer": "ipython3",
      "version": "3.8.15"
    }
  },
  "nbformat": 4,
  "nbformat_minor": 0
}